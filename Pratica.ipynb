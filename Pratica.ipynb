{
 "cells": [
  {
   "cell_type": "code",
   "execution_count": 23,
   "id": "ff3776c6-c225-4b43-beee-d16555e9f12b",
   "metadata": {},
   "outputs": [
    {
     "name": "stdin",
     "output_type": "stream",
     "text": [
      "Qual a amplitude desejada 25\n"
     ]
    },
    {
     "name": "stdout",
     "output_type": "stream",
     "text": [
      "0\n",
      "1\n",
      "2\n",
      "3\n",
      "4\n",
      "5\n",
      "6\n",
      "7\n",
      "8\n",
      "9\n",
      "10\n",
      "11\n",
      "12\n",
      "13\n",
      "14\n",
      "15\n",
      "16\n",
      "17\n",
      "18\n",
      "19\n",
      "20\n",
      "21\n",
      "22\n",
      "23\n",
      "24\n",
      "25\n"
     ]
    }
   ],
   "source": [
    "x = input(\"Qual a amplitude desejada\")\n",
    "y = int(x) \n",
    "def amplitude(i=0,f=y):\n",
    "    for n in range(i,f+1):\n",
    "        print(n) \n",
    "amplitude()"
   ]
  },
  {
   "cell_type": "code",
   "execution_count": 48,
   "id": "8cee7299-4ae5-444d-8c8a-5574b330decb",
   "metadata": {},
   "outputs": [
    {
     "name": "stdin",
     "output_type": "stream",
     "text": [
      "? te amo susu\n"
     ]
    },
    {
     "name": "stdout",
     "output_type": "stream",
     "text": [
      "t\n",
      "e\n",
      " \n",
      "a\n",
      "m\n",
      "o\n",
      " \n",
      "s\n",
      "u\n",
      "s\n",
      "u\n"
     ]
    }
   ],
   "source": [
    "def string(n):\n",
    "    x = input(\"\")\n",
    "    for n in x:\n",
    "        print(n)\n",
    "string(n)"
   ]
  },
  {
   "cell_type": "code",
   "execution_count": 74,
   "id": "0368380d-b681-46d7-90a4-cdcec1075806",
   "metadata": {},
   "outputs": [
    {
     "name": "stdin",
     "output_type": "stream",
     "text": [
      "qual o peso da carga: 19.99\n"
     ]
    },
    {
     "name": "stdout",
     "output_type": "stream",
     "text": [
      "O valor cobrado sera de 80 reais\n"
     ]
    }
   ],
   "source": [
    "x = float(input(\"qual o peso da carga:\"))\n",
    "if 0 < x  <= 10.00:\n",
    "    print(\"O valor cobrado sera de 50 reais\")\n",
    "elif 11.00 <= x <= 20.00:\n",
    "     print(\"O valor cobrado sera de 80 reais\")\n",
    "else:\n",
    "    print(\"Transporte nao sera aceito\")"
   ]
  },
  {
   "cell_type": "code",
   "execution_count": null,
   "id": "1c273b13-f96c-41cd-9cb3-9a294ade9d95",
   "metadata": {},
   "outputs": [],
   "source": []
  },
  {
   "cell_type": "code",
   "execution_count": null,
   "id": "6da3e822-5692-4828-8999-342d3150acc3",
   "metadata": {},
   "outputs": [],
   "source": []
  }
 ],
 "metadata": {
  "kernelspec": {
   "display_name": "Python 3 (ipykernel)",
   "language": "python",
   "name": "python3"
  },
  "language_info": {
   "codemirror_mode": {
    "name": "ipython",
    "version": 3
   },
   "file_extension": ".py",
   "mimetype": "text/x-python",
   "name": "python",
   "nbconvert_exporter": "python",
   "pygments_lexer": "ipython3",
   "version": "3.12.7"
  }
 },
 "nbformat": 4,
 "nbformat_minor": 5
}
